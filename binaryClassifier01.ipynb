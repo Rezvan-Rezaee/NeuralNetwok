{
  "nbformat": 4,
  "nbformat_minor": 0,
  "metadata": {
    "colab": {
      "provenance": []
    },
    "kernelspec": {
      "name": "python3",
      "display_name": "Python 3"
    },
    "language_info": {
      "name": "python"
    }
  },
  "cells": [
    {
      "cell_type": "markdown",
      "source": [
        "This code implements a binary classifier to distinguish between the numbers 0 and 1 from the MNIST dataset."
      ],
      "metadata": {
        "id": "E5qLynWIYT0J"
      }
    },
    {
      "cell_type": "code",
      "execution_count": null,
      "metadata": {
        "id": "BDiYQfW8bu_R"
      },
      "outputs": [],
      "source": [
        "import pandas as pd\n",
        "import numpy as np\n",
        "import matplotlib.pyplot as plt\n",
        "import cv2\n",
        "import tensorflow as tf\n",
        "from numpy import array\n",
        "from keras.utils import to_categorical\n",
        "from keras.utils.generic_utils import get_custom_objects\n",
        "import keras\n",
        "from keras import metrics\n",
        "from keras.models import Sequential\n",
        "from keras.layers import Dense, Activation, Flatten, Conv2D, MaxPooling2D\n",
        "from keras.constraints import Constraint\n",
        "from keras import backend as K\n",
        "from keras import initializers\n",
        "from google.colab import files\n",
        "import csv"
      ]
    },
    {
      "cell_type": "code",
      "source": [
        "(x_train, y_train), (x_test, y_test) = tf.keras.datasets.mnist.load_data()\n",
        "print(x_train.shape, y_train.shape, x_test.shape, y_test.shape)"
      ],
      "metadata": {
        "colab": {
          "base_uri": "https://localhost:8080/"
        },
        "id": "ehuxewlK-sMh",
        "outputId": "1af33903-c053-49d8-d388-a4fd717be9fa"
      },
      "execution_count": null,
      "outputs": [
        {
          "output_type": "stream",
          "name": "stdout",
          "text": [
            "Downloading data from https://storage.googleapis.com/tensorflow/tf-keras-datasets/mnist.npz\n",
            "11490434/11490434 [==============================] - 0s 0us/step\n",
            "(60000, 28, 28) (60000,) (10000, 28, 28) (10000,)\n"
          ]
        }
      ]
    },
    {
      "cell_type": "markdown",
      "source": [
        "Pixel values are 0 to 255. 0 means background (white), 255 means foreground (black)."
      ],
      "metadata": {
        "id": "VaG5mALWYzMo"
      }
    },
    {
      "cell_type": "code",
      "source": [
        "# expand new axis, channel axis \n",
        "x_train = np.expand_dims(x_train, axis=-1)\n",
        "x_test = np.expand_dims(x_test, axis=-1)\n",
        "\n",
        "# resize the input shape , i.e. old shape: 28, new shape: 10\n",
        "x_train = tf.image.resize(x_train, [10,10]) \n",
        "x_test = tf.image.resize(x_test, [10,10]) \n",
        "\n",
        "x_train = np.squeeze(x_train, axis =3)\n",
        "x_test = np.squeeze(x_test, axis =3)\n",
        "print(x_train.shape, x_test.shape)"
      ],
      "metadata": {
        "colab": {
          "base_uri": "https://localhost:8080/"
        },
        "id": "9y6l0prFudV0",
        "outputId": "955aa3fa-dd36-462f-b73d-b16d571421a4"
      },
      "execution_count": null,
      "outputs": [
        {
          "output_type": "stream",
          "name": "stdout",
          "text": [
            "(60000, 10, 10) (10000, 10, 10)\n"
          ]
        }
      ]
    },
    {
      "cell_type": "code",
      "source": [
        "# total number of training and testing data\n",
        "num_train_data = x_train.shape[0]\n",
        "num_test_data = x_test.shape[0]\n",
        "\n",
        "x=0\n",
        "y=0\n",
        "num_images_0 = 0\n",
        "num_images_1 = 0\n",
        "num_images_2 = 0\n",
        "num_images_3 = 0\n",
        "num_images_4 = 0\n",
        "num_images_5 = 0\n",
        "num_images_6 = 0\n",
        "num_images_7 = 0\n",
        "num_images_8 = 0\n",
        "num_images_9 = 0\n",
        "\n",
        "num_images_test_0 = 0\n",
        "num_images_test_1 = 0\n",
        "\n",
        "for i in range(num_train_data):\n",
        "  x +=1\n",
        "  if (y_train[i] == 0):\n",
        "    num_images_0 += 1\n",
        "  elif (y_train[i] == 1):\n",
        "    num_images_1 += 1\n",
        "  elif (y_train[i] == 2):\n",
        "    num_images_2 += 1\n",
        "  elif (y_train[i] == 3):\n",
        "    num_images_3 += 1\n",
        "  elif (y_train[i] == 4):\n",
        "    num_images_4 += 1\n",
        "  elif (y_train[i] == 5):\n",
        "    num_images_5 += 1\n",
        "  elif (y_train[i] == 6):\n",
        "    num_images_6 += 1\n",
        "  elif (y_train[i] == 7):\n",
        "    num_images_7 += 1\n",
        "  elif (y_train[i] == 8):\n",
        "    num_images_8 += 1\n",
        "  elif (y_train[i] == 9):\n",
        "    num_images_9 += 1\n",
        "\n",
        "################# The same Thing can be done for test data\n",
        "for i in range(num_test_data):\n",
        "  y +=1\n",
        "  if (y_test[i] == 0):\n",
        "    num_images_test_0 += 1\n",
        "  elif (y_test[i] == 1):\n",
        "    num_images_test_1 += 1"
      ],
      "metadata": {
        "id": "SGLLUkUsDlsS"
      },
      "execution_count": null,
      "outputs": []
    },
    {
      "cell_type": "code",
      "source": [
        "# (1) needs to be changed for different neurons\n",
        "num_train_01 = num_images_0 + num_images_1\n",
        "num_train_02 = num_images_0 + num_images_2\n",
        "num_train_03 = num_images_0 + num_images_3\n",
        "num_train_04 = num_images_0 + num_images_4\n",
        "num_train_05 = num_images_0 + num_images_5\n",
        "num_train_06 = num_images_0 + num_images_6\n",
        "num_train_07 = num_images_0 + num_images_7\n",
        "num_train_08 = num_images_0 + num_images_8\n",
        "num_train_09 = num_images_0 + num_images_9\n",
        "num_train_12 = num_images_1 + num_images_2\n",
        "num_train_13 = num_images_1 + num_images_3\n",
        "num_train_14 = num_images_1 + num_images_4\n",
        "num_train_15 = num_images_1 + num_images_5\n",
        "num_train_16 = num_images_1 + num_images_6\n",
        "num_train_17 = num_images_1 + num_images_7\n",
        "num_train_18 = num_images_1 + num_images_8\n",
        "num_train_19 = num_images_1 + num_images_9\n",
        "num_train_23 = num_images_2 + num_images_3\n",
        "num_train_24 = num_images_2 + num_images_4\n",
        "num_train_25 = num_images_2 + num_images_5\n",
        "num_train_26 = num_images_2 + num_images_6\n",
        "num_train_27 = num_images_2 + num_images_7\n",
        "num_train_28 = num_images_2 + num_images_8\n",
        "num_train_29 = num_images_2 + num_images_9\n",
        "num_train_34 = num_images_3 + num_images_4\n",
        "num_train_35 = num_images_3 + num_images_5\n",
        "num_train_36 = num_images_3 + num_images_6\n",
        "num_train_37 = num_images_3 + num_images_7\n",
        "num_train_38 = num_images_3 + num_images_8\n",
        "num_train_39 = num_images_3 + num_images_9\n",
        "num_train_45 = num_images_4 + num_images_5\n",
        "num_train_46 = num_images_4 + num_images_6\n",
        "num_train_47 = num_images_4 + num_images_7\n",
        "num_train_48 = num_images_4 + num_images_8\n",
        "num_train_49 = num_images_4 + num_images_9\n",
        "num_train_56 = num_images_5 + num_images_6\n",
        "num_train_57 = num_images_5 + num_images_7\n",
        "num_train_58 = num_images_5 + num_images_8\n",
        "num_train_59 = num_images_5 + num_images_9\n",
        "num_train_67 = num_images_6 + num_images_7\n",
        "num_train_68 = num_images_6 + num_images_8\n",
        "num_train_69 = num_images_6 + num_images_9\n",
        "num_train_78 = num_images_7 + num_images_8\n",
        "num_train_79 = num_images_7 + num_images_9\n",
        "num_train_89 = num_images_8 + num_images_9\n",
        "\n",
        "# test test set\n",
        "num_test_01 = num_images_test_0 + num_images_test_1"
      ],
      "metadata": {
        "id": "YSfSHOfiNt_d"
      },
      "execution_count": null,
      "outputs": []
    },
    {
      "cell_type": "code",
      "source": [
        "num_train_01"
      ],
      "metadata": {
        "colab": {
          "base_uri": "https://localhost:8080/"
        },
        "id": "cQClHAXhNYVS",
        "outputId": "5e70bf25-59f4-42fe-b952-9de6a823f6be"
      },
      "execution_count": null,
      "outputs": [
        {
          "output_type": "execute_result",
          "data": {
            "text/plain": [
              "12665"
            ]
          },
          "metadata": {},
          "execution_count": 6
        }
      ]
    },
    {
      "cell_type": "code",
      "source": [
        "num_test_01"
      ],
      "metadata": {
        "colab": {
          "base_uri": "https://localhost:8080/"
        },
        "id": "wxj9ZhaRflf-",
        "outputId": "de740404-01a6-4579-a6a5-9190ec35686c"
      },
      "execution_count": null,
      "outputs": [
        {
          "output_type": "execute_result",
          "data": {
            "text/plain": [
              "2115"
            ]
          },
          "metadata": {},
          "execution_count": 7
        }
      ]
    },
    {
      "cell_type": "code",
      "source": [
        "# (1) added to the one neuron code\n",
        "#define an empty array\n",
        "x_train_16 = np.empty([num_train_data, 10, 10])\n",
        "x_test_16 = np.empty([num_test_data, 10, 10])"
      ],
      "metadata": {
        "id": "8DabdwW5KVT0"
      },
      "execution_count": null,
      "outputs": []
    },
    {
      "cell_type": "code",
      "source": [
        "# (2) added to the one neuron code\n",
        "# train dataset pixel level adjustment to values between 0 and 15\n",
        "for counter in range(0, (num_train_data-1), 1):\n",
        "  # seperating an image from the dataset\n",
        "  reduced_pixel = np.array(x_train[counter])\n",
        "  # changing the pixel values\n",
        "  for i in range (reduced_pixel[0].size):\n",
        "    for j in range (reduced_pixel[1].size):\n",
        "      if reduced_pixel[i][j] <= 15.9375:\n",
        "        reduced_pixel[i][j] = 0\n",
        "      elif 15.9375 < reduced_pixel[i][j] <= 31.875:\n",
        "        reduced_pixel[i][j] = 1\n",
        "      elif 31.875 < reduced_pixel[i][j] <= 47.8125:\n",
        "        reduced_pixel[i][j] = 2\n",
        "      elif 47.8125 < reduced_pixel[i][j] <= 63.75:\n",
        "        reduced_pixel[i][j] = 3\n",
        "      elif 63.75 < reduced_pixel[i][j] <= 79.6875:\n",
        "        reduced_pixel[i][j] = 4\n",
        "      elif 79.6875 < reduced_pixel[i][j] <= 95.625:\n",
        "        reduced_pixel[i][j] = 5\n",
        "      elif 95.625 < reduced_pixel[i][j] <= 111.5625:\n",
        "        reduced_pixel[i][j] = 6\n",
        "      elif 111.5625 < reduced_pixel[i][j] <= 127.5:\n",
        "        reduced_pixel[i][j] = 7\n",
        "      elif 127.5 < reduced_pixel[i][j] <= 143.4375:\n",
        "        reduced_pixel[i][j] = 8\n",
        "      elif 143.4375 < reduced_pixel[i][j] <= 159.375:\n",
        "        reduced_pixel[i][j] = 9\n",
        "      elif 159.375 < reduced_pixel[i][j] <= 175.3125:\n",
        "        reduced_pixel[i][j] = 10\n",
        "      elif 175.3125 < reduced_pixel[i][j] <= 191.25:\n",
        "        reduced_pixel[i][j] = 11\n",
        "      elif 191.25 < reduced_pixel[i][j] <= 207.1875:\n",
        "        reduced_pixel[i][j] = 12\n",
        "      elif 207.1875 < reduced_pixel[i][j] <= 223.125:\n",
        "        reduced_pixel[i][j] = 13\n",
        "      elif 223.125 < reduced_pixel[i][j] <= 239.0625:\n",
        "        reduced_pixel[i][j] = 14\n",
        "      elif 239.0625 < reduced_pixel[i][j] <= 255:\n",
        "        reduced_pixel[i][j] = 15\n",
        "  # adding the image back to the dataset\n",
        "  x_train_16[counter] = reduced_pixel\n",
        "\n",
        "# test dataset pixel level adjustment\n",
        "for counter1 in range(0, (num_test_data-1), 1):\n",
        "  # seperating an image from the dataset\n",
        "  reduced_pixel1 = np.array(x_test[counter1])\n",
        "  # changing the pixel values\n",
        "  for i in range (reduced_pixel1[0].size):\n",
        "    for j in range (reduced_pixel1[1].size):\n",
        "      if reduced_pixel1[i][j] <= 15.9375:\n",
        "        reduced_pixel1[i][j] = 0\n",
        "      elif 15.9375 < reduced_pixel1[i][j] <= 31.875:\n",
        "        reduced_pixel1[i][j] = 1\n",
        "      elif 31.875 < reduced_pixel1[i][j] <= 47.8125:\n",
        "        reduced_pixel1[i][j] = 2\n",
        "      elif 47.8125 < reduced_pixel1[i][j] <= 63.75:\n",
        "        reduced_pixel1[i][j] = 3\n",
        "      elif 63.75 < reduced_pixel1[i][j] <= 79.6875:\n",
        "        reduced_pixel1[i][j] = 4\n",
        "      elif 79.6875 < reduced_pixel1[i][j] <= 95.625:\n",
        "        reduced_pixel1[i][j] = 5\n",
        "      elif 95.625 < reduced_pixel1[i][j] <= 111.5625:\n",
        "        reduced_pixel1[i][j] = 6\n",
        "      elif 111.5625 < reduced_pixel1[i][j] <= 127.5:\n",
        "        reduced_pixel1[i][j] = 7\n",
        "      elif 127.5 < reduced_pixel1[i][j] <= 143.4375:\n",
        "        reduced_pixel1[i][j] = 8\n",
        "      elif 143.4375 < reduced_pixel1[i][j] <= 159.375:\n",
        "        reduced_pixel1[i][j] = 9\n",
        "      elif 159.375 < reduced_pixel1[i][j] <= 175.3125:\n",
        "        reduced_pixel1[i][j] = 10\n",
        "      elif 175.3125 < reduced_pixel1[i][j] <= 191.25:\n",
        "        reduced_pixel1[i][j] = 11\n",
        "      elif 191.25 < reduced_pixel1[i][j] <= 207.1875:\n",
        "        reduced_pixel1[i][j] = 12\n",
        "      elif 207.1875 < reduced_pixel1[i][j] <= 223.125:\n",
        "        reduced_pixel1[i][j] = 13\n",
        "      elif 223.125 < reduced_pixel1[i][j] <= 239.0625:\n",
        "        reduced_pixel1[i][j] = 14\n",
        "      elif 239.0625 < reduced_pixel1[i][j] <= 255:\n",
        "        reduced_pixel1[i][j] = 15\n",
        "  # adding the image back to the dataset\n",
        "  x_test_16[counter1] = reduced_pixel1"
      ],
      "metadata": {
        "id": "DbaRC9RqKm3T"
      },
      "execution_count": null,
      "outputs": []
    },
    {
      "cell_type": "code",
      "source": [
        "# (3) added to the code\n",
        "x_train = x_train_16\n",
        "x_test = x_test_16"
      ],
      "metadata": {
        "id": "dsIgkbcWLqYi"
      },
      "execution_count": null,
      "outputs": []
    },
    {
      "cell_type": "code",
      "source": [
        "# (3-1) just for test\n",
        "test1 = x_test[7000]\n",
        "plt.imshow(test1, cmap='Greys')"
      ],
      "metadata": {
        "colab": {
          "base_uri": "https://localhost:8080/",
          "height": 283
        },
        "id": "Y2nebfa7L_vE",
        "outputId": "c6dd6560-1026-4d19-b48a-c0fc634c9a48"
      },
      "execution_count": null,
      "outputs": [
        {
          "output_type": "execute_result",
          "data": {
            "text/plain": [
              "<matplotlib.image.AxesImage at 0x7f7d57649730>"
            ]
          },
          "metadata": {},
          "execution_count": 11
        },
        {
          "output_type": "display_data",
          "data": {
            "text/plain": [
              "<Figure size 432x288 with 1 Axes>"
            ],
            "image/png": "[encoded data removed]"
          },
          "metadata": {
            "needs_background": "light"
          }
        }
      ]
    },
    {
      "cell_type": "code",
      "source": [
        "# (3-2) just for test\n",
        "test1"
      ],
      "metadata": {
        "colab": {
          "base_uri": "https://localhost:8080/"
        },
        "id": "HwMxyPPVMlrU",
        "outputId": "52b38c3e-9479-4a17-e582-9d945361af70"
      },
      "execution_count": null,
      "outputs": [
        {
          "output_type": "execute_result",
          "data": {
            "text/plain": [
              "array([[ 0.,  0.,  0.,  0.,  0.,  0.,  0.,  0.,  0.,  0.],\n",
              "       [ 0.,  0.,  0.,  0.,  0.,  0.,  3.,  0.,  0.,  0.],\n",
              "       [ 0.,  0.,  0.,  0.,  0.,  5.,  3.,  0.,  0.,  0.],\n",
              "       [ 0.,  0.,  0.,  0.,  0., 14.,  0.,  0.,  0.,  0.],\n",
              "       [ 0.,  0.,  0.,  0.,  0., 14.,  0.,  0.,  0.,  0.],\n",
              "       [ 0.,  0.,  0.,  0.,  2.,  3.,  0.,  0.,  0.,  0.],\n",
              "       [ 0.,  0.,  0.,  0., 14.,  0.,  0.,  0.,  0.,  0.],\n",
              "       [ 0.,  0.,  0.,  4., 14.,  0.,  0.,  0.,  0.,  0.],\n",
              "       [ 0.,  0.,  0.,  5.,  0.,  0.,  0.,  0.,  0.,  0.],\n",
              "       [ 0.,  0.,  0.,  0.,  0.,  0.,  0.,  0.,  0.,  0.]])"
            ]
          },
          "metadata": {},
          "execution_count": 12
        }
      ]
    },
    {
      "cell_type": "code",
      "source": [
        "# Train/test data for 0 vs 1\n",
        "x_train_01 = np.empty([num_train_01, 10, 10])\n",
        "y_train_01 = np.empty([num_train_01,])\n",
        "\n",
        "################# The same Thing can be done for test data\n",
        "x_test_01 = np.empty([num_test_01, 10, 10]) \n",
        "y_test_01 = np.empty([num_test_01,])"
      ],
      "metadata": {
        "id": "OQuyKVpHFCu-"
      },
      "execution_count": null,
      "outputs": []
    },
    {
      "cell_type": "code",
      "source": [
        "x_train_01.shape"
      ],
      "metadata": {
        "colab": {
          "base_uri": "https://localhost:8080/"
        },
        "id": "QoSdOWkyyVDy",
        "outputId": "8ec1d5b4-44e6-4a14-b583-9dcfe935553a"
      },
      "execution_count": null,
      "outputs": [
        {
          "output_type": "execute_result",
          "data": {
            "text/plain": [
              "(12665, 10, 10)"
            ]
          },
          "metadata": {},
          "execution_count": 14
        }
      ]
    },
    {
      "cell_type": "code",
      "source": [
        "x_test_01.shape"
      ],
      "metadata": {
        "colab": {
          "base_uri": "https://localhost:8080/"
        },
        "id": "kfcEEzmqgmOo",
        "outputId": "eb20c816-58d2-45c7-c8f4-df11126c9658"
      },
      "execution_count": null,
      "outputs": [
        {
          "output_type": "execute_result",
          "data": {
            "text/plain": [
              "(2115, 10, 10)"
            ]
          },
          "metadata": {},
          "execution_count": 23
        }
      ]
    },
    {
      "cell_type": "code",
      "source": [
        "y_test_01.shape"
      ],
      "metadata": {
        "colab": {
          "base_uri": "https://localhost:8080/"
        },
        "id": "EQCXzCjYgq3m",
        "outputId": "c28a7490-91cf-4e55-de2f-0cd23bce33b2"
      },
      "execution_count": null,
      "outputs": [
        {
          "output_type": "execute_result",
          "data": {
            "text/plain": [
              "(2115,)"
            ]
          },
          "metadata": {},
          "execution_count": 24
        }
      ]
    },
    {
      "cell_type": "code",
      "source": [
        "# 0 vs 1\n",
        "idx_01 = 0\n",
        "# (2) needs to be changed for different neurons\n",
        "# this value would correspond to labet 1 binary\n",
        "label1 = 0\n",
        "# this value would correspond to labet 0 binary\n",
        "label0 = 1\n",
        "# end\n",
        "for i in range(num_train_data):\n",
        "  if (y_train[i] == label1):\n",
        "    x_train_01[idx_01] = x_train[i]\n",
        "    y_train_01[idx_01] = 1\n",
        "    idx_01 += 1\n",
        "  elif (y_train[i] == label0):\n",
        "    x_train_01[idx_01] = x_train[i]\n",
        "    y_train_01[idx_01] = 0\n",
        "    idx_01 += 1"
      ],
      "metadata": {
        "id": "Ae_GkawDCmxs"
      },
      "execution_count": null,
      "outputs": []
    },
    {
      "cell_type": "code",
      "source": [
        "x_train_01.shape"
      ],
      "metadata": {
        "colab": {
          "base_uri": "https://localhost:8080/"
        },
        "id": "bVVAeehkypNJ",
        "outputId": "2af3920a-a49d-4cf1-fd34-644d83ee2801"
      },
      "execution_count": null,
      "outputs": [
        {
          "output_type": "execute_result",
          "data": {
            "text/plain": [
              "(12665, 10, 10)"
            ]
          },
          "metadata": {},
          "execution_count": 17
        }
      ]
    },
    {
      "cell_type": "code",
      "source": [
        "#used to visulaize images from the dataset\n",
        "image_index = 1000 # You may select anything up to 60,000\n",
        "print(y_train_01[image_index]) \n",
        "plt.imshow(x_train_01[image_index], cmap='Greys')"
      ],
      "metadata": {
        "colab": {
          "base_uri": "https://localhost:8080/",
          "height": 301
        },
        "id": "OxlMOunPPFw7",
        "outputId": "79c1b941-c56b-48a8-ab31-7ab92f0bf844"
      },
      "execution_count": null,
      "outputs": [
        {
          "output_type": "stream",
          "name": "stdout",
          "text": [
            "0.0\n"
          ]
        },
        {
          "output_type": "execute_result",
          "data": {
            "text/plain": [
              "<matplotlib.image.AxesImage at 0x7f7d575de4c0>"
            ]
          },
          "metadata": {},
          "execution_count": 16
        },
        {
          "output_type": "display_data",
          "data": {
            "text/plain": [
              "<Figure size 432x288 with 1 Axes>"
            ],
            "image/png": "[encoded data removed]"
          },
          "metadata": {
            "needs_background": "light"
          }
        }
      ]
    },
    {
      "cell_type": "markdown",
      "source": [
        "The MNIST Dataset is ready for processing."
      ],
      "metadata": {
        "id": "C1wNdsqsfQJE"
      }
    },
    {
      "cell_type": "code",
      "source": [
        "# 0 vs 1\n",
        "idx_01 = 0\n",
        "# (2) needs to be changed for different neurons\n",
        "# this value would correspond to labet 1 binary\n",
        "label1 = 0\n",
        "# this value would correspond to labet 0 binary\n",
        "label0 = 1\n",
        "# end\n",
        "for i in range(num_test_data):\n",
        "  if (y_test[i] == label1):\n",
        "    x_test_01[idx_01] = x_test[i]\n",
        "    y_test_01[idx_01] = 1\n",
        "    idx_01 += 1\n",
        "  elif (y_test[i] == label0):\n",
        "    x_test_01[idx_01] = x_test[i]\n",
        "    y_test_01[idx_01] = 0\n",
        "    idx_01 += 1"
      ],
      "metadata": {
        "id": "u5HT-CYng_1a"
      },
      "execution_count": null,
      "outputs": []
    },
    {
      "cell_type": "code",
      "source": [
        "#used to visulaize images from the dataset\n",
        "image_index = 1108 # You may select anything up to 60,000\n",
        "print(y_test_01[image_index]) \n",
        "plt.imshow(x_test_01[image_index], cmap='Greys')"
      ],
      "metadata": {
        "colab": {
          "base_uri": "https://localhost:8080/",
          "height": 301
        },
        "id": "9IqvO-yYhv52",
        "outputId": "6a7804ef-6d61-4378-b400-58cb1fb5479f"
      },
      "execution_count": null,
      "outputs": [
        {
          "output_type": "stream",
          "name": "stdout",
          "text": [
            "0.0\n"
          ]
        },
        {
          "output_type": "execute_result",
          "data": {
            "text/plain": [
              "<matplotlib.image.AxesImage at 0x7f7d570e4e80>"
            ]
          },
          "metadata": {},
          "execution_count": 19
        },
        {
          "output_type": "display_data",
          "data": {
            "text/plain": [
              "<Figure size 432x288 with 1 Axes>"
            ],
            "image/png": "[encoded data removed]"
          },
          "metadata": {
            "needs_background": "light"
          }
        }
      ]
    },
    {
      "cell_type": "code",
      "source": [
        "# (4) changes were made here\n",
        "# Determining the values for weights\n",
        "# Determining the values for weights\n",
        "initializerKernel = tf.keras.initializers.RandomNormal(mean=0.004, stddev=0.004)\n",
        "initializerBias = initializers.Zeros()\n",
        "lr = 0.0001\n",
        "eps = 1e-02\n",
        "metrics_eval = ['MeanSquaredError']\n",
        "loss_train = 'mean_squared_error'\n",
        "b_min = 0\n",
        "b_max = 0\n",
        "image_size = (10, 10, 1)\n",
        "weight_matrix = (10,10)\n",
        "num_filters = 1\n",
        "num_epochs = 10\n",
        "num_batches = 8\n",
        "validation_size = 0.001\n",
        "\n",
        "# to reverse the effect of the sigmoid function\n",
        "Vth_sigmoid = 0.5 # y-intersect of sigmoid (depends on the threshold voltage = Vth)\n",
        "# hardware parameters\n",
        "Vth = 0.4\n",
        "C = 1\n",
        "min_charge = 0\n",
        "max_charge = 0.015706"
      ],
      "metadata": {
        "id": "wkux12ypVIGu"
      },
      "execution_count": null,
      "outputs": []
    },
    {
      "cell_type": "code",
      "source": [
        "y_train_01"
      ],
      "metadata": {
        "colab": {
          "base_uri": "https://localhost:8080/"
        },
        "id": "IXeXvWpZ1ZpR",
        "outputId": "7a86a55a-c8ee-4ce9-e66a-8bf02c2da8da"
      },
      "execution_count": null,
      "outputs": [
        {
          "output_type": "execute_result",
          "data": {
            "text/plain": [
              "array([1., 0., 0., ..., 0., 1., 0.])"
            ]
          },
          "metadata": {},
          "execution_count": 93
        }
      ]
    },
    {
      "cell_type": "code",
      "source": [
        "x_train_01 = np.expand_dims(x_train_01, axis=-1)"
      ],
      "metadata": {
        "id": "5M1yjuv_CIgm"
      },
      "execution_count": null,
      "outputs": []
    },
    {
      "cell_type": "code",
      "source": [
        "x_test_01 = np.expand_dims(x_test_01, axis=-1)"
      ],
      "metadata": {
        "id": "wKYCaKsmup7X"
      },
      "execution_count": null,
      "outputs": []
    },
    {
      "cell_type": "markdown",
      "source": [
        "Keras Model"
      ],
      "metadata": {
        "id": "YLy1VtTq8lx6"
      }
    },
    {
      "cell_type": "code",
      "source": [
        "def custom_activation(x):\n",
        "    return (K.sigmoid(((x/C)-Vth)))   \n",
        "get_custom_objects().update({'custom_activation': Activation(custom_activation)})\n",
        "\n",
        "class paramLimit(Constraint):\n",
        "    def __init__(self, min_value, max_value):\n",
        "        self.min_value = min_value\n",
        "        self.max_value = max_value\n",
        "\n",
        "    def __call__(self, w):        \n",
        "        return K.clip(w, self.min_value, self.max_value)\n",
        "\n",
        "    def get_config(self):\n",
        "        return {'min_value': self.min_value,\n",
        "                'max_value': self.max_value}\n",
        "\n",
        "class biasLimit(Constraint):\n",
        "    def __init__(self, min_value, max_value):\n",
        "        self.min_value = min_value\n",
        "        self.max_value = max_value\n",
        "\n",
        "    def __call__(self, w):        \n",
        "        return K.clip(w, self.min_value, self.max_value)\n",
        "\n",
        "    def get_config(self):\n",
        "        return {'min_value': self.min_value,\n",
        "                'max_value': self.max_value}\n",
        "\n",
        "def recall(y_true, y_pred):\n",
        "    y_true = K.ones_like(y_true)\n",
        "    true_positives = K.sum(K.round(K.clip(y_true * y_pred, 0, 1)))\n",
        "    all_positives = K.sum(K.round(K.clip(y_true, 0, 1)))\n",
        "\n",
        "    recall = true_positives / (all_positives + K.epsilon())\n",
        "    return recall\n",
        "\n",
        "def precision(y_true, y_pred):\n",
        "    y_true = K.ones_like(y_true)\n",
        "    true_positives = K.sum(K.round(K.clip(y_true * y_pred, 0, 1)))\n",
        "\n",
        "    predicted_positives = K.sum(K.round(K.clip(y_pred, 0, 1)))\n",
        "    precision = true_positives / (predicted_positives + K.epsilon())\n",
        "    return precision\n",
        "\n",
        "def f1_score(y_true, y_pred):\n",
        "    precision = precision(y_true, y_pred)\n",
        "    recall = recall(y_true, y_pred)\n",
        "    return 2*((precision*recall)/(precision+recall+K.epsilon()))"
      ],
      "metadata": {
        "id": "BEFUlfPX-zS8"
      },
      "execution_count": null,
      "outputs": []
    },
    {
      "cell_type": "code",
      "source": [
        "# Create Neural network\n",
        "model = Sequential()  #activation=tf.nn.relu\n",
        "# Convolutional model\n",
        "model.add(Conv2D(num_filters, kernel_size=weight_matrix, activation=custom_activation, input_shape=image_size, kernel_constraint=paramLimit(min_charge,max_charge), bias_constraint=biasLimit(b_min,b_max), kernel_initializer = initializerKernel , bias_initializer = initializerBias))\n",
        "model.compile(loss=loss_train, optimizer=keras.optimizers.Adam( learning_rate=lr , epsilon=eps), metrics = metrics_eval)"
      ],
      "metadata": {
        "id": "YAeTydm-_Iva"
      },
      "execution_count": null,
      "outputs": []
    },
    {
      "cell_type": "code",
      "source": [
        "history = model.fit(x_train_01, y_train_01, epochs=num_epochs, batch_size=num_batches, validation_split=validation_size)"
      ],
      "metadata": {
        "id": "KMrjZag2BcpN",
        "colab": {
          "base_uri": "https://localhost:8080/"
        },
        "outputId": "d84f5b9f-81e0-4d93-fe44-f47534470efd"
      },
      "execution_count": null,
      "outputs": [
        {
          "output_type": "stream",
          "name": "stdout",
          "text": [
            "Epoch 1/10\n",
            "1582/1582 [==============================] - 3s 2ms/step - loss: 0.2463 - mean_squared_error: 0.2463 - val_loss: 0.2508 - val_mean_squared_error: 0.2508\n",
            "Epoch 2/10\n",
            "1582/1582 [==============================] - 3s 2ms/step - loss: 0.2463 - mean_squared_error: 0.2463 - val_loss: 0.2503 - val_mean_squared_error: 0.2503\n",
            "Epoch 3/10\n",
            "1582/1582 [==============================] - 3s 2ms/step - loss: 0.2459 - mean_squared_error: 0.2459 - val_loss: 0.2519 - val_mean_squared_error: 0.2519\n",
            "Epoch 4/10\n",
            "1582/1582 [==============================] - 3s 2ms/step - loss: 0.2459 - mean_squared_error: 0.2459 - val_loss: 0.2513 - val_mean_squared_error: 0.2513\n",
            "Epoch 5/10\n",
            "1582/1582 [==============================] - 3s 2ms/step - loss: 0.2464 - mean_squared_error: 0.2464 - val_loss: 0.2505 - val_mean_squared_error: 0.2505\n",
            "Epoch 6/10\n",
            "1582/1582 [==============================] - 3s 2ms/step - loss: 0.2460 - mean_squared_error: 0.2460 - val_loss: 0.2512 - val_mean_squared_error: 0.2512\n",
            "Epoch 7/10\n",
            "1582/1582 [==============================] - 3s 2ms/step - loss: 0.2461 - mean_squared_error: 0.2461 - val_loss: 0.2504 - val_mean_squared_error: 0.2504\n",
            "Epoch 8/10\n",
            "1582/1582 [==============================] - 3s 2ms/step - loss: 0.2463 - mean_squared_error: 0.2463 - val_loss: 0.2524 - val_mean_squared_error: 0.2524\n",
            "Epoch 9/10\n",
            "1582/1582 [==============================] - 3s 2ms/step - loss: 0.2459 - mean_squared_error: 0.2459 - val_loss: 0.2505 - val_mean_squared_error: 0.2505\n",
            "Epoch 10/10\n",
            "1582/1582 [==============================] - 3s 2ms/step - loss: 0.2462 - mean_squared_error: 0.2462 - val_loss: 0.2512 - val_mean_squared_error: 0.2512\n"
          ]
        }
      ]
    },
    {
      "cell_type": "code",
      "source": [
        "y_pred = model.predict(x_train_01)\n",
        "print(y_pred, y_train_01)"
      ],
      "metadata": {
        "id": "nYfHEhdcC22T",
        "colab": {
          "base_uri": "https://localhost:8080/"
        },
        "outputId": "d07f2c42-a64e-45b9-e2fb-1511f66f193d"
      },
      "execution_count": null,
      "outputs": [
        {
          "output_type": "stream",
          "name": "stdout",
          "text": [
            "396/396 [==============================] - 1s 1ms/step\n",
            "[[[[0.5325425 ]]]\n",
            "\n",
            "\n",
            " [[[0.42444366]]]\n",
            "\n",
            "\n",
            " [[[0.42583504]]]\n",
            "\n",
            "\n",
            " ...\n",
            "\n",
            "\n",
            " [[[0.4193124 ]]]\n",
            "\n",
            "\n",
            " [[[0.5278994 ]]]\n",
            "\n",
            "\n",
            " [[[0.41154298]]]] [1. 0. 0. ... 0. 1. 0.]\n"
          ]
        }
      ]
    },
    {
      "cell_type": "code",
      "source": [
        "y_pred[4]"
      ],
      "metadata": {
        "colab": {
          "base_uri": "https://localhost:8080/"
        },
        "id": "mgpZTRCoB121",
        "outputId": "a8e6ecee-cdac-49b1-e43a-08a538b7aa04"
      },
      "execution_count": null,
      "outputs": [
        {
          "output_type": "execute_result",
          "data": {
            "text/plain": [
              "array([[[0.41222313]]], dtype=float32)"
            ]
          },
          "metadata": {},
          "execution_count": 174
        }
      ]
    },
    {
      "cell_type": "code",
      "source": [
        "import sklearn\n",
        "from sklearn.metrics import accuracy_score\n",
        "from sklearn.metrics import confusion_matrix\n",
        "\n",
        "# predict labels\n",
        "y_pred_train = model.predict(x_train_01)\n",
        "\n",
        "#squeeze array\n",
        "y_pred_train = np.squeeze(y_pred_train, axis=-1)\n",
        "y_pred_train = np.squeeze(y_pred_train, axis=-1)\n",
        "y_pred_train = np.squeeze(y_pred_train, axis=-1)\n",
        "\n",
        "for i in range(num_train_01):\n",
        "  if y_pred_train[i] > Vth_sigmoid:\n",
        "    y_pred_train[i] = 1\n",
        "  elif y_pred_train[i] < Vth_sigmoid:\n",
        "    y_pred_train[i] = 0\n",
        "\n",
        "a = accuracy_score(y_pred_train,y_train_01)\n",
        "print('Accuracy = ', a*100)\n",
        "\n",
        "TotalPos = 0\n",
        "TruePos = 0\n",
        "PredictedPos = 0\n",
        "\n",
        "for i in range (num_train_01):\n",
        "  if y_train_01[i] == 1 :\n",
        "    TotalPos = TotalPos + 1\n",
        "    if y_pred_train[i] == 1 :\n",
        "      TruePos = TruePos + 1\n",
        "  if y_pred_train[i] == 1 :\n",
        "    PredictedPos = PredictedPos + 1\n",
        "\n",
        "Recall = (TruePos/TotalPos)*100\n",
        "Precision = ( TruePos / ( PredictedPos + K.epsilon() ) )*100\n",
        "F1 = 2 * ( ( Precision * Recall ) / ( Precision + Recall + K.epsilon() ) ) \n",
        "print(\"Recall = \", Recall, \"%\")\n",
        "print(\"Precision = \", Precision, \"%\")\n",
        "print(\"F1-score = \", F1, \"%\")"
      ],
      "metadata": {
        "colab": {
          "base_uri": "https://localhost:8080/"
        },
        "id": "JB4lU469ZU9P",
        "outputId": "78533cca-99fd-4351-b7e6-3e00e1ee46eb"
      },
      "execution_count": null,
      "outputs": [
        {
          "output_type": "stream",
          "name": "stdout",
          "text": [
            "396/396 [==============================] - 0s 1ms/step\n",
            "Accuracy =  95.40465850769839\n",
            "Recall =  90.29208171534695 %\n",
            "Precision =  99.86928104388666 %\n",
            "F1-score =  94.83951050080212 %\n"
          ]
        }
      ]
    },
    {
      "cell_type": "code",
      "source": [
        "y_pred_train[0]"
      ],
      "metadata": {
        "colab": {
          "base_uri": "https://localhost:8080/"
        },
        "id": "qN4huEl62SMV",
        "outputId": "5889985b-b951-441d-eae8-d4864fd0542a"
      },
      "execution_count": null,
      "outputs": [
        {
          "output_type": "execute_result",
          "data": {
            "text/plain": [
              "1.0"
            ]
          },
          "metadata": {},
          "execution_count": 149
        }
      ]
    },
    {
      "cell_type": "code",
      "source": [
        "# test set accuracy\n",
        "y_pred_test = model.predict(x_test_01)\n",
        "#squeeze array\n",
        "y_pred_test = np.squeeze(y_pred_test, axis=-1)\n",
        "y_pred_test = np.squeeze(y_pred_test, axis=-1)\n",
        "y_pred_test = np.squeeze(y_pred_test, axis=-1)\n",
        "\n",
        "for i in range(num_test_01):\n",
        "  if y_pred_test[i] > Vth_sigmoid:\n",
        "    y_pred_test[i] = 1\n",
        "  elif y_pred_test[i] < Vth_sigmoid:\n",
        "    y_pred_test[i] = 0\n",
        "\n",
        "a_test = accuracy_score(y_pred_test,y_test_01)\n",
        "print('Accuracy = ', a_test*100)\n",
        "\n",
        "TotalPos = 0\n",
        "TruePos = 0\n",
        "PredictedPos = 0\n",
        "\n",
        "for i in range (num_test_01):\n",
        "  if y_test_01[i] == 1 :\n",
        "    TotalPos = TotalPos + 1\n",
        "    if y_pred_test[i] == 1 :\n",
        "      TruePos = TruePos + 1\n",
        "  if y_pred_test[i] == 1 :\n",
        "    PredictedPos = PredictedPos + 1\n",
        "\n",
        "Recall = (TruePos/TotalPos)*100\n",
        "Precision = ( TruePos / ( PredictedPos + K.epsilon() ) )*100\n",
        "F1 = 2 * ( ( Precision * Recall ) / ( Precision + Recall + K.epsilon() ) ) \n",
        "print(\"Recall = \", Recall, \"%\")\n",
        "print(\"Precision = \", Precision, \"%\")\n",
        "print(\"F1-score = \", F1, \"%\")"
      ],
      "metadata": {
        "colab": {
          "base_uri": "https://localhost:8080/"
        },
        "id": "ZQmJ4axxmabx",
        "outputId": "398a79f6-5a2c-4e09-aef6-208e3826ffb6"
      },
      "execution_count": null,
      "outputs": [
        {
          "output_type": "stream",
          "name": "stdout",
          "text": [
            "67/67 [==============================] - 0s 1ms/step\n",
            "Accuracy =  95.7919621749409\n",
            "Recall =  90.91836734693878 %\n",
            "Precision =  99.99999998877665 %\n",
            "F1-score =  95.24318540734227 %\n"
          ]
        }
      ]
    },
    {
      "cell_type": "code",
      "source": [
        "y_pred_test[0]"
      ],
      "metadata": {
        "colab": {
          "base_uri": "https://localhost:8080/"
        },
        "id": "NYw_zSzC2EbZ",
        "outputId": "283574d7-d073-4990-a581-4ab179aefae1"
      },
      "execution_count": null,
      "outputs": [
        {
          "output_type": "execute_result",
          "data": {
            "text/plain": [
              "0.0"
            ]
          },
          "metadata": {},
          "execution_count": 101
        }
      ]
    },
    {
      "cell_type": "code",
      "source": [
        "for layer in model.layers:\n",
        "    weights = layer.get_weights() # list of numpy arrays\n",
        "    w1 = weights[0]\n",
        "\n",
        "w1 = np.squeeze(w1, axis=-1)\n",
        "w1 = np.squeeze(w1, axis=-1)\n",
        "print(w1.shape)"
      ],
      "metadata": {
        "colab": {
          "base_uri": "https://localhost:8080/"
        },
        "id": "KGCEzoxRYKpQ",
        "outputId": "011b5264-86a9-46c8-f312-249efb0db40c"
      },
      "execution_count": null,
      "outputs": [
        {
          "output_type": "stream",
          "name": "stdout",
          "text": [
            "(10, 10)\n"
          ]
        }
      ]
    },
    {
      "cell_type": "code",
      "source": [
        "w2 = w1.flatten()\n",
        "print(w1)\n",
        "print(w2)"
      ],
      "metadata": {
        "id": "unwNxnEoloSu"
      },
      "execution_count": null,
      "outputs": []
    },
    {
      "cell_type": "code",
      "source": [
        "w3 = w2*1000"
      ],
      "metadata": {
        "id": "V_z3VALx6_rH"
      },
      "execution_count": null,
      "outputs": []
    },
    {
      "cell_type": "code",
      "source": [
        "w3"
      ],
      "metadata": {
        "colab": {
          "base_uri": "https://localhost:8080/"
        },
        "id": "H0SCR1Gh7Ds2",
        "outputId": "f8e16997-536f-4e47-a41b-e44dc79070a7"
      },
      "execution_count": null,
      "outputs": [
        {
          "output_type": "execute_result",
          "data": {
            "text/plain": [
              "array([1.7378845e+00, 2.7054763e+00, 3.7829670e-01, 1.1171535e+01,\n",
              "       8.8512974e+00, 3.5886630e-02, 2.4660701e-01, 5.6831563e-01,\n",
              "       3.0035820e+00, 4.1929998e+00, 5.3495269e+00, 7.5298238e-01,\n",
              "       8.6751467e-01, 2.4452427e-01, 1.0761670e+00, 2.6410387e+00,\n",
              "       1.9673854e+00, 5.5859691e-01, 1.2912531e-01, 3.9799175e+00,\n",
              "       0.0000000e+00, 1.3346738e+00, 7.5982809e-02, 2.0828617e+00,\n",
              "       1.0241561e+00, 1.5550349e+00, 1.8775963e+00, 9.3514818e-01,\n",
              "       1.4081916e+00, 4.1325059e+00, 3.5277877e+00, 6.6966214e+00,\n",
              "       1.4810460e+00, 4.0546536e+00, 6.9878680e-01, 1.7682604e-01,\n",
              "       5.2636880e-01, 2.3960600e+00, 1.7391570e+00, 4.7362661e+00,\n",
              "       4.8880553e-01, 1.6988987e+00, 1.9524333e+00, 3.7144454e+00,\n",
              "       3.1524581e-01, 7.3341854e-02, 3.7474406e-01, 5.0783453e+00,\n",
              "       1.9763461e+00, 4.5009333e-01, 3.8815002e+00, 3.5443256e+00,\n",
              "       1.7247274e+00, 6.0172873e+00, 5.4925317e-01, 0.0000000e+00,\n",
              "       7.3498783e+00, 5.0816960e+00, 3.6515672e+00, 1.9052529e+00,\n",
              "       5.3402233e+00, 2.7817295e+00, 2.8536239e+00, 1.1566452e+00,\n",
              "       1.1011510e-01, 8.5352007e-03, 4.7863641e+00, 2.1838965e+00,\n",
              "       3.0783389e+00, 3.5082974e+00, 6.1502385e+00, 1.4289730e+00,\n",
              "       7.6767594e-01, 1.6022837e+00, 5.8075249e-01, 3.0713207e-01,\n",
              "       2.9613197e+00, 3.4837499e+00, 3.4315712e+00, 4.5144200e+00,\n",
              "       3.0338340e+00, 2.5910666e+00, 6.3327044e-01, 9.6929944e-01,\n",
              "       2.6397426e+00, 2.2325420e+00, 2.3037705e+00, 4.6691914e+00,\n",
              "       1.0944484e+00, 1.6819698e-01, 9.3691659e-01, 5.7851815e+00,\n",
              "       6.9245448e+00, 1.1057403e+01, 8.0340424e+00, 8.6978884e+00,\n",
              "       7.8309178e+00, 0.0000000e+00, 9.2245731e+00, 3.9912658e+00],\n",
              "      dtype=float32)"
            ]
          },
          "metadata": {},
          "execution_count": 169
        }
      ]
    },
    {
      "cell_type": "code",
      "source": [
        "plt.plot(history.history['loss'])\n",
        "plt.title('Model accuracy')\n",
        "plt.ylabel('Accuracy')\n",
        "plt.xlabel('Epoch')\n",
        "plt.legend(['Train'], loc='upper left')\n",
        "plt.show()"
      ],
      "metadata": {
        "colab": {
          "base_uri": "https://localhost:8080/",
          "height": 295
        },
        "id": "qWKRaj8LWkcu",
        "outputId": "1f99ad71-0853-4665-d638-f9e6affc81b4"
      },
      "execution_count": null,
      "outputs": [
        {
          "output_type": "display_data",
          "data": {
            "text/plain": [
              "<Figure size 432x288 with 1 Axes>"
            ],
            "image/png": "[encoded data removed]"
          },
          "metadata": {
            "needs_background": "light"
          }
        }
      ]
    },
    {
      "cell_type": "code",
      "source": [
        "'''for weight in range (w2.size):\n",
        "  if w2[weight] < 0.8348725:\n",
        "    w2[weight] = 110\n",
        "  elif 0.8348725 <= w2[weight] < 1.48905:\n",
        "    w2[weight] = 100\n",
        "  elif 1.48905 <= w2[weight] < 2.186361:\n",
        "    w2[weight] = 90\n",
        "  elif 2.186361 <= w2[weight] < 3.163204:\n",
        "    w2[weight] = 80\n",
        "  elif 3.163204 <= w2[weight] < 4.471563:\n",
        "    w2[weight] = 70\n",
        "  elif 4.471563 <= w2[weight] < 6.083409:\n",
        "    w2[weight] = 60\n",
        "  elif 6.083409 <= w2[weight] < 8.056554:\n",
        "    w2[weight] = 50\n",
        "  elif 8.056554 <= w2[weight] < 10.32685:\n",
        "    w2[weight] = 40\n",
        "  elif 10.32685 <= w2[weight] < 12.91844:\n",
        "    w2[weight] = 30\n",
        "  elif 12.91844 <= w2[weight] < 15.85916:\n",
        "    w2[weight] = 20\n",
        "  elif 15.85916 <= w2[weight] < 19.05258:\n",
        "    w2[weight] = 10\n",
        "  elif 19.05258 <= w2[weight] <= 22.62194:\n",
        "    w2[weight] = 0\n",
        "w2'''"
      ],
      "metadata": {
        "id": "2rbQjiyxjxxD"
      },
      "execution_count": null,
      "outputs": []
    },
    {
      "cell_type": "code",
      "source": [
        "'''for weight in range (w3.size):\n",
        "  if w3[weight] < 4.51:\n",
        "    w3[weight] = 110\n",
        "  elif 4.51 <= w3[weight] < 4.8:\n",
        "    w3[weight] = 100\n",
        "  elif 4.8 <= w3[weight] < 5.3:\n",
        "    w3[weight] = 90\n",
        "  elif 5.3 <= w3[weight] < 5.62:\n",
        "    w3[weight] = 80\n",
        "  elif 5.62 <= w3[weight] < 6.3272:\n",
        "    w3[weight] = 70\n",
        "  elif 6.3272 <= w3[weight] < 7.2559:\n",
        "    w3[weight] = 60\n",
        "  elif 7.2559 <= w3[weight] < 8.4352:\n",
        "    w3[weight] = 50\n",
        "  elif  8.4352 <= w3[weight] < 9.924:\n",
        "    w3[weight] = 40\n",
        "  elif 9.924 <= w3[weight] < 11.784:\n",
        "    w3[weight] = 30\n",
        "  elif 11.784 <= w3[weight] < 14.057:\n",
        "    w3[weight] = 20\n",
        "  elif 14.057 <= w3[weight] < 16.788:\n",
        "    w3[weight] = 10\n",
        "  elif 16.788 <= w3[weight] <= 20.066:\n",
        "    w3[weight] = 0 '''"
      ],
      "metadata": {
        "id": "u9Tho9Pgxg0k"
      },
      "execution_count": null,
      "outputs": []
    },
    {
      "cell_type": "code",
      "source": [
        "for weight in range (w3.size):\n",
        "  if w3[weight] < 0.01:\n",
        "    w3[weight] = 110\n",
        "  elif 0.01 <= w3[weight] < 0.3059:\n",
        "    w3[weight] = 100\n",
        "  elif 0.3059 <= w3[weight] < 0.7146 :\n",
        "    w3[weight] = 90\n",
        "  elif 0.7146 <= w3[weight] < 1.2541 :\n",
        "    w3[weight] = 80\n",
        "  elif 1.2541 <= w3[weight] < 1.9672 :\n",
        "    w3[weight] = 70\n",
        "  elif 1.9672 <= w3[weight] < 2.8959:\n",
        "    w3[weight] = 60\n",
        "  elif 2.8959 <= w3[weight] < 4.0752:\n",
        "    w3[weight] = 50\n",
        "  elif 4.0752 <= w3[weight] <  5.5645:\n",
        "    w3[weight] = 40\n",
        "  elif 5.5645<= w3[weight] < 7.424:\n",
        "    w3[weight] = 30\n",
        "  elif 7.424 <= w3[weight] < 9.697:\n",
        "    w3[weight] = 20\n",
        "  elif 9.697 <= w3[weight] < 12.428:\n",
        "    w3[weight] = 10\n",
        "  elif 12.428 <= w3[weight] <= 15.706:\n",
        "    w3[weight] = 0"
      ],
      "metadata": {
        "id": "4pXnqeXEkqok"
      },
      "execution_count": null,
      "outputs": []
    },
    {
      "cell_type": "code",
      "source": [
        "w3"
      ],
      "metadata": {
        "colab": {
          "base_uri": "https://localhost:8080/"
        },
        "id": "dK5FBaci0k-T",
        "outputId": "9640b873-61b6-42f4-ffca-02d433940ec8"
      },
      "execution_count": null,
      "outputs": [
        {
          "output_type": "execute_result",
          "data": {
            "text/plain": [
              "array([ 70.,  60.,  90.,  10.,  20., 100., 100.,  90.,  50.,  40.,  40.,\n",
              "        80.,  80., 100.,  80.,  60.,  60.,  90., 100.,  50., 110.,  70.,\n",
              "       100.,  60.,  80.,  70.,  70.,  80.,  70.,  40.,  50.,  30.,  70.,\n",
              "        50.,  90., 100.,  90.,  60.,  70.,  40.,  90.,  70.,  70.,  50.,\n",
              "        90., 100.,  90.,  40.,  60.,  90.,  50.,  50.,  70.,  30.,  90.,\n",
              "       110.,  30.,  40.,  50.,  70.,  40.,  60.,  60.,  80., 100., 110.,\n",
              "        40.,  60.,  50.,  50.,  30.,  70.,  80.,  70.,  90.,  90.,  50.,\n",
              "        50.,  50.,  40.,  50.,  60.,  90.,  80.,  60.,  60.,  60.,  40.,\n",
              "        80., 100.,  80.,  30.,  30.,  10.,  20.,  20.,  20., 110.,  20.,\n",
              "        50.], dtype=float32)"
            ]
          },
          "metadata": {},
          "execution_count": 171
        }
      ]
    },
    {
      "cell_type": "code",
      "source": [
        "idx = 3\n",
        "example_image = x_train_01[idx]\n",
        "example_image = np.squeeze(example_image, axis =2)\n",
        "plt.imshow(example_image, cmap='Greys')"
      ],
      "metadata": {
        "colab": {
          "base_uri": "https://localhost:8080/",
          "height": 283
        },
        "id": "7Mfijt20n2Qd",
        "outputId": "4f6bbd87-40ba-46d2-bd9b-5e270a58765d"
      },
      "execution_count": null,
      "outputs": [
        {
          "output_type": "execute_result",
          "data": {
            "text/plain": [
              "<matplotlib.image.AxesImage at 0x7f7d52bc7970>"
            ]
          },
          "metadata": {},
          "execution_count": 133
        },
        {
          "output_type": "display_data",
          "data": {
            "text/plain": [
              "<Figure size 432x288 with 1 Axes>"
            ],
            "image/png": "[encoded data removed]"
          },
          "metadata": {
            "needs_background": "light"
          }
        }
      ]
    },
    {
      "cell_type": "code",
      "source": [
        "example_image"
      ],
      "metadata": {
        "colab": {
          "base_uri": "https://localhost:8080/"
        },
        "id": "gH0O7chDngSn",
        "outputId": "02d40baf-5a29-4f7a-843d-9178910c8349"
      },
      "execution_count": null,
      "outputs": [
        {
          "output_type": "execute_result",
          "data": {
            "text/plain": [
              "array([[ 0.,  0.,  0.,  0.,  0.,  0.,  0.,  0.,  0.,  0.],\n",
              "       [ 0.,  0.,  0.,  0.,  0.,  0.,  0.,  0.,  0.,  0.],\n",
              "       [ 0.,  0.,  0.,  0.,  2.,  3.,  0.,  0.,  0.,  0.],\n",
              "       [ 0.,  0.,  0.,  0.,  2.,  5.,  0.,  0.,  0.,  0.],\n",
              "       [ 0.,  0.,  0.,  0.,  1.,  9.,  0.,  0.,  0.,  0.],\n",
              "       [ 0.,  0.,  0.,  0.,  1., 14.,  0.,  0.,  0.,  0.],\n",
              "       [ 0.,  0.,  0.,  0.,  0., 15.,  0.,  0.,  0.,  0.],\n",
              "       [ 0.,  0.,  0.,  0.,  0., 14.,  0.,  0.,  0.,  0.],\n",
              "       [ 0.,  0.,  0.,  0.,  0., 14.,  0.,  0.,  0.,  0.],\n",
              "       [ 0.,  0.,  0.,  0.,  0.,  0.,  0.,  0.,  0.,  0.]])"
            ]
          },
          "metadata": {},
          "execution_count": 134
        }
      ]
    },
    {
      "cell_type": "code",
      "source": [
        "example2 = x_train_01[idx]\n",
        "example2 = np.squeeze(example2, axis=-1)\n",
        "print(example2.shape)"
      ],
      "metadata": {
        "colab": {
          "base_uri": "https://localhost:8080/"
        },
        "id": "v-ALKmP8X4Pm",
        "outputId": "f87b20ec-1f47-41a9-da43-183ab3c57447"
      },
      "execution_count": null,
      "outputs": [
        {
          "output_type": "stream",
          "name": "stdout",
          "text": [
            "(10, 10)\n"
          ]
        }
      ]
    },
    {
      "cell_type": "code",
      "source": [
        "example2"
      ],
      "metadata": {
        "id": "uAvtjrsiYPBw"
      },
      "execution_count": null,
      "outputs": []
    },
    {
      "cell_type": "code",
      "source": [
        "test0 = example2.flatten()"
      ],
      "metadata": {
        "id": "47m4OG_RdyEC"
      },
      "execution_count": null,
      "outputs": []
    },
    {
      "cell_type": "code",
      "source": [
        "test0"
      ],
      "metadata": {
        "colab": {
          "base_uri": "https://localhost:8080/"
        },
        "id": "Y8k_2Rcon9df",
        "outputId": "0927d001-ea33-494f-80a4-7cb01eb17916"
      },
      "execution_count": null,
      "outputs": [
        {
          "output_type": "execute_result",
          "data": {
            "text/plain": [
              "array([ 0.,  0.,  0.,  0.,  0.,  0.,  0.,  0.,  0.,  0.,  0.,  0.,  0.,\n",
              "        0.,  0.,  0.,  0.,  0.,  0.,  0.,  0.,  0.,  0.,  0.,  0.,  0.,\n",
              "       12.,  9.,  0.,  0.,  0.,  0.,  0.,  0.,  0.,  4., 14.,  0.,  0.,\n",
              "        0.,  0.,  0.,  0.,  0.,  0., 15.,  2.,  0.,  0.,  0.,  0.,  0.,\n",
              "        0.,  0., 14., 10.,  0.,  0.,  0.,  0.,  0.,  0.,  0.,  3., 15.,\n",
              "        0.,  0.,  0.,  0.,  0.,  0.,  0.,  0., 13., 11.,  0.,  0.,  0.,\n",
              "        0.,  0.,  0.,  0.,  0., 15.,  0.,  0.,  0.,  0.,  0.,  0.,  0.,\n",
              "        0.,  0.,  0.,  0.,  0.,  0.,  0.,  0.,  0.])"
            ]
          },
          "metadata": {},
          "execution_count": 118
        }
      ]
    },
    {
      "cell_type": "code",
      "source": [
        "w1"
      ],
      "metadata": {
        "id": "Q0V3w3LUaFRS"
      },
      "execution_count": null,
      "outputs": []
    },
    {
      "cell_type": "code",
      "source": [
        "weights_10x10 = w1 * 1000\n",
        "#weights_10x10 *= 1000"
      ],
      "metadata": {
        "id": "pisASYk2Ysar"
      },
      "execution_count": null,
      "outputs": []
    },
    {
      "cell_type": "code",
      "source": [
        "weights_10x10"
      ],
      "metadata": {
        "id": "LZDPct2YZ5Ny"
      },
      "execution_count": null,
      "outputs": []
    },
    {
      "cell_type": "code",
      "source": [
        "for q in range (weights_10x10[0].size):\n",
        "  for r in range (weights_10x10[1].size):\n",
        "      if weights_10x10[q][r] < 4.51:\n",
        "        weights_10x10[q][r]  = 110\n",
        "      elif 4.51 <= weights_10x10[q][r]  < 4.8:\n",
        "        weights_10x10[q][r]  = 100\n",
        "      elif 4.8 <= weights_10x10[q][r]  < 5.3:\n",
        "        weights_10x10[q][r]  = 90\n",
        "      elif 5.3 <= weights_10x10[q][r]  < 5.62:\n",
        "        weights_10x10[q][r]  = 80\n",
        "      elif 5.62 <= weights_10x10[q][r]  < 6.3272:\n",
        "        weights_10x10[q][r]  = 70\n",
        "      elif 6.3272 <= weights_10x10[q][r]  < 7.2559:\n",
        "        weights_10x10[q][r]  = 60\n",
        "      elif 7.2559 <= weights_10x10[q][r]  < 8.4352:\n",
        "        weights_10x10[q][r]  = 50\n",
        "      elif  8.4352 <= weights_10x10[q][r] < 9.924:\n",
        "        weights_10x10[q][r]  = 40\n",
        "      elif 9.924 <= weights_10x10[q][r] < 11.784:\n",
        "        weights_10x10[q][r]  = 30\n",
        "      elif 11.784 <= weights_10x10[q][r] < 14.057:\n",
        "        weights_10x10[q][r]  = 20\n",
        "      elif 14.057 <= weights_10x10[q][r]  < 16.788:\n",
        "        weights_10x10[q][r]  = 10\n",
        "      elif 16.788 <= weights_10x10[q][r]  <= 20.066:\n",
        "        weights_10x10[q][r]  = 0   "
      ],
      "metadata": {
        "id": "cSvw8fc3ZB-l"
      },
      "execution_count": null,
      "outputs": []
    },
    {
      "cell_type": "code",
      "source": [
        "weights_10x10"
      ],
      "metadata": {
        "id": "Dc19LFLlZuPv"
      },
      "execution_count": null,
      "outputs": []
    },
    {
      "cell_type": "code",
      "source": [
        "ex1 = x_train_01[4]\n",
        "ex1 = ex1.flatten()"
      ],
      "metadata": {
        "id": "F96oKRZ1ossT"
      },
      "execution_count": null,
      "outputs": []
    },
    {
      "cell_type": "code",
      "source": [
        "ex1"
      ],
      "metadata": {
        "colab": {
          "base_uri": "https://localhost:8080/"
        },
        "id": "y1mysNYDo0Bi",
        "outputId": "e9e40c6e-0394-46af-d4e3-07bcd63ed508"
      },
      "execution_count": null,
      "outputs": [
        {
          "output_type": "execute_result",
          "data": {
            "text/plain": [
              "array([ 0.,  0.,  0.,  0.,  0.,  0.,  0.,  0.,  0.,  0.,  0.,  0.,  0.,\n",
              "        0.,  0.,  0.,  0.,  0.,  0.,  0.,  0.,  0.,  0.,  0., 13.,  0.,\n",
              "        0.,  0.,  0.,  0.,  0.,  0.,  0.,  0.,  3.,  4.,  0.,  0.,  0.,\n",
              "        0.,  0.,  0.,  0.,  0.,  3.,  7.,  0.,  0.,  0.,  0.,  0.,  0.,\n",
              "        0.,  0.,  3.,  7.,  0.,  0.,  0.,  0.,  0.,  0.,  0.,  0.,  3.,\n",
              "        3.,  0.,  0.,  0.,  0.,  0.,  0.,  0.,  0.,  2.,  7.,  0.,  0.,\n",
              "        0.,  0.,  0.,  0.,  0.,  0.,  0., 10.,  0.,  0.,  0.,  0.,  0.,\n",
              "        0.,  0.,  0.,  0.,  0.,  0.,  0.,  0.,  0.])"
            ]
          },
          "metadata": {},
          "execution_count": 140
        }
      ]
    },
    {
      "cell_type": "code",
      "source": [
        "sum = 0\n",
        "for i in range(ex1.size):\n",
        "  t = ex1[i] * w2[i]\n",
        "  sum = sum + t"
      ],
      "metadata": {
        "id": "LSUeih-e6Utq"
      },
      "execution_count": null,
      "outputs": []
    },
    {
      "cell_type": "code",
      "source": [
        "sum"
      ],
      "metadata": {
        "colab": {
          "base_uri": "https://localhost:8080/"
        },
        "id": "0WNBcnMn6udF",
        "outputId": "b189d9d8-eb04-4219-ccde-dfb5a4be55d0"
      },
      "execution_count": null,
      "outputs": [
        {
          "output_type": "execute_result",
          "data": {
            "text/plain": [
              "0.5580800175666809"
            ]
          },
          "metadata": {},
          "execution_count": 44
        }
      ]
    },
    {
      "cell_type": "code",
      "source": [
        "'''for input in range (example_image2.size):\n",
        "  example_image2[input] = 316 - (20 * example_image2[input])'''"
      ],
      "metadata": {
        "id": "rzv7szejyiMs"
      },
      "execution_count": null,
      "outputs": []
    },
    {
      "cell_type": "code",
      "source": [
        "for input in range (ex1.size):\n",
        "  ex1[input] = 316 - (20 * ex1[input])"
      ],
      "metadata": {
        "id": "lF8KRvdJojSd"
      },
      "execution_count": null,
      "outputs": []
    },
    {
      "cell_type": "code",
      "source": [
        "ex1"
      ],
      "metadata": {
        "colab": {
          "base_uri": "https://localhost:8080/"
        },
        "id": "ma-ar_-gzrP0",
        "outputId": "8341742d-b321-41a8-fdef-bc21dc02149a"
      },
      "execution_count": null,
      "outputs": [
        {
          "output_type": "execute_result",
          "data": {
            "text/plain": [
              "array([316., 316., 316., 316., 316., 316., 316., 316., 316., 316., 316.,\n",
              "       316., 316., 316., 196., 276., 316., 316., 316., 316., 316., 316.,\n",
              "       316., 316., 116., 216., 316., 316., 316., 316., 316., 316., 316.,\n",
              "       316.,  76., 116., 316., 316., 316., 316., 316., 316., 316., 316.,\n",
              "       296.,  16., 316., 316., 316., 316., 316., 316., 316., 316., 296.,\n",
              "        16., 316., 316., 316., 316., 316., 316., 316., 316., 296.,  16.,\n",
              "       276., 316., 316., 316., 316., 316., 316., 316., 316.,  16., 196.,\n",
              "       316., 316., 316., 316., 316., 316., 316., 316., 156., 236., 316.,\n",
              "       316., 316., 316., 316., 316., 316., 316., 316., 316., 316., 316.,\n",
              "       316.])"
            ]
          },
          "metadata": {},
          "execution_count": 128
        }
      ]
    },
    {
      "cell_type": "code",
      "source": [
        "ex1[27]"
      ],
      "metadata": {
        "id": "6YYxWvaX4EaE"
      },
      "execution_count": null,
      "outputs": []
    },
    {
      "cell_type": "code",
      "source": [
        "# CSV file for the threshold voltages\n",
        "dummy = np.array([0])\n",
        "w4 = np.hstack((dummy, w3))\n",
        "test_submission = np.array([w4.T]).T\n",
        "\n",
        "with open('thresholdVoltage.csv','w') as f:\n",
        "    csv.writer(f).writerows(test_submission)"
      ],
      "metadata": {
        "id": "JBXcnO0rrX-n"
      },
      "execution_count": null,
      "outputs": []
    },
    {
      "cell_type": "code",
      "source": [
        "files.download(\"thresholdVoltage.csv\")"
      ],
      "metadata": {
        "colab": {
          "base_uri": "https://localhost:8080/",
          "height": 17
        },
        "id": "cptJODpGrnDo",
        "outputId": "9c489def-7f4e-43ec-8036-d0a2b5fc6e4f"
      },
      "execution_count": null,
      "outputs": [
        {
          "output_type": "display_data",
          "data": {
            "text/plain": [
              "<IPython.core.display.Javascript object>"
            ],
            "application/javascript": [
              "\n",
              "    async function download(id, filename, size) {\n",
              "      if (!google.colab.kernel.accessAllowed) {\n",
              "        return;\n",
              "      }\n",
              "      const div = document.createElement('div');\n",
              "      const label = document.createElement('label');\n",
              "      label.textContent = `Downloading \"${filename}\": `;\n",
              "      div.appendChild(label);\n",
              "      const progress = document.createElement('progress');\n",
              "      progress.max = size;\n",
              "      div.appendChild(progress);\n",
              "      document.body.appendChild(div);\n",
              "\n",
              "      const buffers = [];\n",
              "      let downloaded = 0;\n",
              "\n",
              "      const channel = await google.colab.kernel.comms.open(id);\n",
              "      // Send a message to notify the kernel that we're ready.\n",
              "      channel.send({})\n",
              "\n",
              "      for await (const message of channel.messages) {\n",
              "        // Send a message to notify the kernel that we're ready.\n",
              "        channel.send({})\n",
              "        if (message.buffers) {\n",
              "          for (const buffer of message.buffers) {\n",
              "            buffers.push(buffer);\n",
              "            downloaded += buffer.byteLength;\n",
              "            progress.value = downloaded;\n",
              "          }\n",
              "        }\n",
              "      }\n",
              "      const blob = new Blob(buffers, {type: 'application/binary'});\n",
              "      const a = document.createElement('a');\n",
              "      a.href = window.URL.createObjectURL(blob);\n",
              "      a.download = filename;\n",
              "      div.appendChild(a);\n",
              "      a.click();\n",
              "      div.remove();\n",
              "    }\n",
              "  "
            ]
          },
          "metadata": {}
        },
        {
          "output_type": "display_data",
          "data": {
            "text/plain": [
              "<IPython.core.display.Javascript object>"
            ],
            "application/javascript": [
              "download(\"download_eb5c0446-5122-472b-b170-225efcab35be\", \"thresholdVoltage.csv\", 618)"
            ]
          },
          "metadata": {}
        }
      ]
    },
    {
      "cell_type": "code",
      "source": [
        "# CSV file for the one example image\n",
        "uu7 = np.hstack((dummy, ex1))\n",
        "test_image = np.array([uu7.T]).T\n",
        "\n",
        "with open('inputs_delay.csv','w') as f:\n",
        "    csv.writer(f).writerows(test_image)"
      ],
      "metadata": {
        "id": "22ClhlV8tA6j"
      },
      "execution_count": null,
      "outputs": []
    },
    {
      "cell_type": "code",
      "source": [
        "files.download(\"inputs_delay.csv\")"
      ],
      "metadata": {
        "colab": {
          "base_uri": "https://localhost:8080/",
          "height": 17
        },
        "id": "eS1WxNpStWu7",
        "outputId": "df57b6e9-198d-42a0-a6d5-a3787ec399b7"
      },
      "execution_count": null,
      "outputs": [
        {
          "output_type": "display_data",
          "data": {
            "text/plain": [
              "<IPython.core.display.Javascript object>"
            ],
            "application/javascript": [
              "\n",
              "    async function download(id, filename, size) {\n",
              "      if (!google.colab.kernel.accessAllowed) {\n",
              "        return;\n",
              "      }\n",
              "      const div = document.createElement('div');\n",
              "      const label = document.createElement('label');\n",
              "      label.textContent = `Downloading \"${filename}\": `;\n",
              "      div.appendChild(label);\n",
              "      const progress = document.createElement('progress');\n",
              "      progress.max = size;\n",
              "      div.appendChild(progress);\n",
              "      document.body.appendChild(div);\n",
              "\n",
              "      const buffers = [];\n",
              "      let downloaded = 0;\n",
              "\n",
              "      const channel = await google.colab.kernel.comms.open(id);\n",
              "      // Send a message to notify the kernel that we're ready.\n",
              "      channel.send({})\n",
              "\n",
              "      for await (const message of channel.messages) {\n",
              "        // Send a message to notify the kernel that we're ready.\n",
              "        channel.send({})\n",
              "        if (message.buffers) {\n",
              "          for (const buffer of message.buffers) {\n",
              "            buffers.push(buffer);\n",
              "            downloaded += buffer.byteLength;\n",
              "            progress.value = downloaded;\n",
              "          }\n",
              "        }\n",
              "      }\n",
              "      const blob = new Blob(buffers, {type: 'application/binary'});\n",
              "      const a = document.createElement('a');\n",
              "      a.href = window.URL.createObjectURL(blob);\n",
              "      a.download = filename;\n",
              "      div.appendChild(a);\n",
              "      a.click();\n",
              "      div.remove();\n",
              "    }\n",
              "  "
            ]
          },
          "metadata": {}
        },
        {
          "output_type": "display_data",
          "data": {
            "text/plain": [
              "<IPython.core.display.Javascript object>"
            ],
            "application/javascript": [
              "download(\"download_f9971ae7-cf91-491a-818c-bf721f3b3cdb\", \"inputs_delay.csv\", 700)"
            ]
          },
          "metadata": {}
        }
      ]
    },
    {
      "cell_type": "markdown",
      "source": [
        "\n",
        "\n",
        "---\n",
        "\n",
        "\n",
        "---\n",
        "\n",
        "\n",
        "\n",
        "\n",
        "                                                         Creating CSV file for Cadence:\n",
        "\n",
        "---\n",
        "\n",
        "\n",
        "\n",
        "---\n",
        "\n"
      ],
      "metadata": {
        "id": "mBRtQ3mzB81v"
      }
    },
    {
      "cell_type": "code",
      "source": [
        "#Creating CSV file of the weights for CTTs\n",
        "''' import csv\n",
        "id = []\n",
        "for i in np.arange(100):\n",
        "  id.append(i)\n",
        "\n",
        "test_submission = np.array([id,w2.T]).T\n",
        "\n",
        "with open('thresholdVoltageCTT.csv','w') as f:\n",
        "    csv.writer(f).writerows(test_submission) '''"
      ],
      "metadata": {
        "id": "EI3XwCvvkb4b"
      },
      "execution_count": null,
      "outputs": []
    },
    {
      "cell_type": "code",
      "source": [
        "w2.shape"
      ],
      "metadata": {
        "colab": {
          "base_uri": "https://localhost:8080/"
        },
        "id": "8V_WIasHmcwq",
        "outputId": "5c644d29-4a0b-4279-a8eb-9733fc82a996"
      },
      "execution_count": null,
      "outputs": [
        {
          "output_type": "execute_result",
          "data": {
            "text/plain": [
              "(100,)"
            ]
          },
          "metadata": {},
          "execution_count": 221
        }
      ]
    },
    {
      "cell_type": "code",
      "source": [
        "zzz= x_test[0]\n",
        "yyy= x_test[1]\n",
        "zzz = zzz.flatten()\n",
        "yyy = yyy.flatten()\n",
        "\n",
        "bbb = np.vstack((zzz, yyy))\n",
        "print(\"z is:\", zzz)\n",
        "print(\"b is:\", bbb)"
      ],
      "metadata": {
        "id": "ucnnM8OhnvZQ"
      },
      "execution_count": null,
      "outputs": []
    },
    {
      "cell_type": "code",
      "source": [
        "id = np.zeros(10,)\n",
        "for i in np.arange(10):\n",
        "  id[i] = i + 1\n",
        "\n",
        "id"
      ],
      "metadata": {
        "colab": {
          "base_uri": "https://localhost:8080/"
        },
        "id": "FbjXNWrppva6",
        "outputId": "e87fcd9f-f34c-4be9-9add-5ecd1ff02ace"
      },
      "execution_count": null,
      "outputs": [
        {
          "output_type": "execute_result",
          "data": {
            "text/plain": [
              "array([ 1.,  2.,  3.,  4.,  5.,  6.,  7.,  8.,  9., 10.])"
            ]
          },
          "metadata": {},
          "execution_count": 110
        }
      ]
    },
    {
      "cell_type": "code",
      "source": [
        "batch_size_test = 50\n",
        "x_test_batch = np.empty([batch_size_test, 10, 10])\n",
        "\n",
        "for m in range(batch_size_test):\n",
        "  for i in range(10):\n",
        "    for j in range (10):\n",
        "      x_test_batch[m][i][j] = 316 - (20 * x_test[m][i][j])"
      ],
      "metadata": {
        "id": "7BdBd_ZAT3Zi"
      },
      "execution_count": null,
      "outputs": []
    },
    {
      "cell_type": "code",
      "source": [
        "x_test_batch[0]"
      ],
      "metadata": {
        "id": "GCq0yahlVNNc"
      },
      "execution_count": null,
      "outputs": []
    },
    {
      "cell_type": "code",
      "source": [
        "x_train_01[4]"
      ],
      "metadata": {
        "id": "2IJan6FZVQ5W"
      },
      "execution_count": null,
      "outputs": []
    },
    {
      "cell_type": "code",
      "source": [
        "plt.imshow(x_test[0], cmap='Greys')"
      ],
      "metadata": {
        "id": "dW9aA-tYdQrW"
      },
      "execution_count": null,
      "outputs": []
    },
    {
      "cell_type": "code",
      "source": [
        "# generating text file for a batch of test inputs\n",
        "fout = open(\"Simulation.txt\", \"wt\")\n",
        "\n",
        "for k in range(batch_size_test):\n",
        "  fout.write(\"simulator( 'spectre )\\ndesign(   \\\"/home/mkarim21/simulation/Final_system/spectre/schematic/netlist/netlist\\\")\\nresultsDir( \\\"/home/mkarim21/simulation/Final_system/spectre/schematic\\\" )\\nmodelFile( \\n    '(\\\"$SPECTRE_MODEL_PATH/design_wrapper.lib.scs\\\" \\\"tt_pre\\\")\\n)\\nanalysis('tran ?stop \\\"350n\\\"  )\\ndesVar(   \\\"f\\\" 20n )\\n\")\n",
        "  temp_image = x_test_batch[k]\n",
        "  temp_image = temp_image.flatten()\n",
        "\n",
        "  for pixel in range (temp_image.size):\n",
        "        A = 'desVar(       \"Vd{}\" {}n )'\n",
        "        fout.write(A.format(pixel,int(temp_image[pixel])) + \"\\n\")\n",
        "\n",
        "  fout.write(\"desVar(   \\\"wireopt\\\" 16  )\\nenvOption(\\n 'analysisOrder  list(\\\"tran\\\") \\n 'switchViewList  list(\\\"spectreText\\\" \\\"spectre\\\" \\\"cmos_sch\\\" \\\"cmos.sch\\\" \\\"schematic\\\" \\\"veriloga\\\") \\n)\\ntemp( 27 ) \\nrun()\\nselectResult( 'tran )\\nplot(getData(\\\"/VGau\\\") getData(\\\"/Vc\\\") )\\n\\n\\n\")\n",
        "\n",
        "fout.close()"
      ],
      "metadata": {
        "id": "xTYrIa3hROGP"
      },
      "execution_count": null,
      "outputs": []
    },
    {
      "cell_type": "code",
      "source": [
        "#Creating CSV file of the inputs\n",
        "\n",
        "id = np.zeros(10000,)\n",
        "\n",
        "temp1 = x_test[0]\n",
        "temp1 = temp1.flatten()\n",
        "\n",
        "for i in np.arange(10000):\n",
        "  id[i] = i + 1\n",
        "  if i > 0 :\n",
        "    temp = x_test[i]\n",
        "    temp = temp.flatten()\n",
        "    temp1 = np.vstack((temp1, temp))\n",
        "\n",
        "id = id.reshape(10000,1)\n",
        "\n",
        "input_test_images = np.hstack((id,temp1))\n",
        "\n",
        "with open('input_test.csv','w') as f:\n",
        "    csv.writer(f).writerows(input_test_images)"
      ],
      "metadata": {
        "id": "cJKFxkoFnEb8"
      },
      "execution_count": null,
      "outputs": []
    },
    {
      "cell_type": "code",
      "source": [
        "# each row is a flattened version of an image\n",
        "files.download(\"input_test.csv\")"
      ],
      "metadata": {
        "colab": {
          "base_uri": "https://localhost:8080/",
          "height": 17
        },
        "id": "S3VntSQKop5U",
        "outputId": "59f55daa-7bb5-4702-a173-9dd04076e3bd"
      },
      "execution_count": null,
      "outputs": [
        {
          "output_type": "display_data",
          "data": {
            "text/plain": [
              "<IPython.core.display.Javascript object>"
            ],
            "application/javascript": [
              "\n",
              "    async function download(id, filename, size) {\n",
              "      if (!google.colab.kernel.accessAllowed) {\n",
              "        return;\n",
              "      }\n",
              "      const div = document.createElement('div');\n",
              "      const label = document.createElement('label');\n",
              "      label.textContent = `Downloading \"${filename}\": `;\n",
              "      div.appendChild(label);\n",
              "      const progress = document.createElement('progress');\n",
              "      progress.max = size;\n",
              "      div.appendChild(progress);\n",
              "      document.body.appendChild(div);\n",
              "\n",
              "      const buffers = [];\n",
              "      let downloaded = 0;\n",
              "\n",
              "      const channel = await google.colab.kernel.comms.open(id);\n",
              "      // Send a message to notify the kernel that we're ready.\n",
              "      channel.send({})\n",
              "\n",
              "      for await (const message of channel.messages) {\n",
              "        // Send a message to notify the kernel that we're ready.\n",
              "        channel.send({})\n",
              "        if (message.buffers) {\n",
              "          for (const buffer of message.buffers) {\n",
              "            buffers.push(buffer);\n",
              "            downloaded += buffer.byteLength;\n",
              "            progress.value = downloaded;\n",
              "          }\n",
              "        }\n",
              "      }\n",
              "      const blob = new Blob(buffers, {type: 'application/binary'});\n",
              "      const a = document.createElement('a');\n",
              "      a.href = window.URL.createObjectURL(blob);\n",
              "      a.download = filename;\n",
              "      div.appendChild(a);\n",
              "      a.click();\n",
              "      div.remove();\n",
              "    }\n",
              "  "
            ]
          },
          "metadata": {}
        },
        {
          "output_type": "display_data",
          "data": {
            "text/plain": [
              "<IPython.core.display.Javascript object>"
            ],
            "application/javascript": [
              "download(\"download_0f300234-f0f0-4032-b33e-f1303a61f697\", \"input_test.csv\", 20509)"
            ]
          },
          "metadata": {}
        }
      ]
    }
  ]
}